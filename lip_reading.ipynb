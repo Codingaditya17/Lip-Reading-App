{
 "cells": [
  {
   "cell_type": "markdown",
   "id": "567ea33a-1320-467a-bf31-84de34edc893",
   "metadata": {},
   "source": [
    "**Import Dependencies**"
   ]
  },
  {
   "cell_type": "code",
   "execution_count": 1,
   "id": "a3404d46-8a8e-4360-9b86-38285ec67e2e",
   "metadata": {},
   "outputs": [
    {
     "name": "stdout",
     "output_type": "stream",
     "text": [
      "WARNING:tensorflow:From C:\\Users\\91902\\anaconda3\\Lib\\site-packages\\keras\\src\\losses.py:2976: The name tf.losses.sparse_softmax_cross_entropy is deprecated. Please use tf.compat.v1.losses.sparse_softmax_cross_entropy instead.\n",
      "\n"
     ]
    }
   ],
   "source": [
    "import os\n",
    "import cv2\n",
    "import tensorflow as tf\n",
    "import numpy as np\n",
    "from typing import List\n",
    "from matplotlib import pyplot as plt\n",
    "import imageio"
   ]
  },
  {
   "cell_type": "markdown",
   "id": "238eeeca-14ae-48dc-a758-b4a84144b6a8",
   "metadata": {},
   "source": [
    "**Data Loading Functions**"
   ]
  },
  {
   "cell_type": "code",
   "execution_count": 2,
   "id": "8395a375-c954-4c0a-9a5e-6eedc5a2d8f2",
   "metadata": {},
   "outputs": [],
   "source": [
    "import gdown"
   ]
  },
  {
   "cell_type": "code",
   "execution_count": 3,
   "id": "d8846aa2-aa03-46a5-a611-6453043545fd",
   "metadata": {},
   "outputs": [],
   "source": [
    "\n",
    "def load_video(path:str) -> List[float]: \n",
    "\n",
    "    cap = cv2.VideoCapture(path)\n",
    "    frames = []\n",
    "    for _ in range(int(cap.get(cv2.CAP_PROP_FRAME_COUNT))): \n",
    "        ret, frame = cap.read()\n",
    "        frame = tf.image.rgb_to_grayscale(frame)\n",
    "        frames.append(frame[190:236,80:220,:])\n",
    "    cap.release()\n",
    "    \n",
    "    mean = tf.math.reduce_mean(frames)\n",
    "    std = tf.math.reduce_std(tf.cast(frames, tf.float32))\n",
    "    return tf.cast((frames - mean), tf.float32) / std"
   ]
  },
  {
   "cell_type": "code",
   "execution_count": 4,
   "id": "5ae5ff10-6ad4-4bb8-b16b-62c1128da1d6",
   "metadata": {},
   "outputs": [],
   "source": [
    "vocab = [x for x in \"abcdefghijklmnopqrstuvwxyz'?!123456789 \"]"
   ]
  },
  {
   "cell_type": "code",
   "execution_count": 6,
   "id": "1bb852d6-5ee5-490f-be90-671270e47133",
   "metadata": {},
   "outputs": [
    {
     "name": "stdout",
     "output_type": "stream",
     "text": [
      "WARNING:tensorflow:From C:\\Users\\91902\\anaconda3\\Lib\\site-packages\\keras\\src\\backend.py:873: The name tf.get_default_graph is deprecated. Please use tf.compat.v1.get_default_graph instead.\n",
      "\n",
      "The vocabulary is: ['', 'a', 'b', 'c', 'd', 'e', 'f', 'g', 'h', 'i', 'j', 'k', 'l', 'm', 'n', 'o', 'p', 'q', 'r', 's', 't', 'u', 'v', 'w', 'x', 'y', 'z', \"'\", '?', '!', '1', '2', '3', '4', '5', '6', '7', '8', '9', ' '] (size =40)\n"
     ]
    }
   ],
   "source": [
    "char_to_num = tf.keras.layers.StringLookup(vocabulary=vocab, oov_token=\"\")\n",
    "num_to_char = tf.keras.layers.StringLookup(\n",
    "    vocabulary=char_to_num.get_vocabulary(), oov_token=\"\", invert=True\n",
    ")\n",
    "\n",
    "print(\n",
    "    f\"The vocabulary is: {char_to_num.get_vocabulary()} \"\n",
    "    f\"(size ={char_to_num.vocabulary_size()})\"\n",
    ")"
   ]
  },
  {
   "cell_type": "code",
   "execution_count": 9,
   "id": "991cdf53-21bb-4446-85d6-72c2ccfea8cc",
   "metadata": {},
   "outputs": [
    {
     "name": "stdout",
     "output_type": "stream",
     "text": [
      "WARNING:tensorflow:From C:\\Users\\91902\\anaconda3\\Lib\\site-packages\\keras\\src\\utils\\tf_utils.py:492: The name tf.ragged.RaggedTensorValue is deprecated. Please use tf.compat.v1.ragged.RaggedTensorValue instead.\n",
      "\n"
     ]
    },
    {
     "data": {
      "text/plain": [
       "<tf.Tensor: shape=(6,), dtype=int64, numpy=array([ 1,  4,  9, 20, 25,  1], dtype=int64)>"
      ]
     },
     "execution_count": 9,
     "metadata": {},
     "output_type": "execute_result"
    }
   ],
   "source": [
    "char_to_num(['a','d','i','t','y','a'])"
   ]
  },
  {
   "cell_type": "code",
   "execution_count": 10,
   "id": "627407a8-5341-47ea-8d4e-f50c4a0fc5db",
   "metadata": {},
   "outputs": [],
   "source": [
    "def load_alignments(path:str) -> List[str]: \n",
    "    with open(path, 'r') as f: \n",
    "        lines = f.readlines() \n",
    "    tokens = []\n",
    "    for line in lines:\n",
    "        line = line.split()\n",
    "        if line[2] != 'sil': \n",
    "            tokens = [*tokens,' ',line[2]]\n",
    "    return char_to_num(tf.reshape(tf.strings.unicode_split(tokens, input_encoding='UTF-8'), (-1)))[1:]"
   ]
  },
  {
   "cell_type": "code",
   "execution_count": 11,
   "id": "43d82f64-c715-4978-89fd-e569eb21b6e7",
   "metadata": {},
   "outputs": [],
   "source": [
    "def load_data(path: str): \n",
    "    path = bytes.decode(path.numpy())\n",
    "    #file_name = path.split('/')[-1].split('.')[0]\n",
    "    # File name splitting for windows\n",
    "    file_name = path.split('\\\\')[-1].split('.')[0]\n",
    "    video_path = os.path.join('data','s1',f'{file_name}.mpg')\n",
    "    alignment_path = os.path.join('data','alignments','s1',f'{file_name}.align')\n",
    "    frames = load_video(video_path) \n",
    "    alignments = load_alignments(alignment_path)\n",
    "    \n",
    "    return frames, alignments"
   ]
  },
  {
   "cell_type": "code",
   "execution_count": 12,
   "id": "cd40d26a-9043-46c7-a9c7-f3cccdba56ec",
   "metadata": {},
   "outputs": [],
   "source": [
    "\n",
    "test_path = '.\\\\data\\\\s1\\\\bbal6n.mpg'"
   ]
  },
  {
   "cell_type": "code",
   "execution_count": 13,
   "id": "798eb94b-851f-4e43-9f2d-fc2ceb32e0e5",
   "metadata": {},
   "outputs": [
    {
     "data": {
      "text/plain": [
       "'bbal6n'"
      ]
     },
     "execution_count": 13,
     "metadata": {},
     "output_type": "execute_result"
    }
   ],
   "source": [
    "tf.convert_to_tensor(test_path).numpy().decode('utf-8').split('\\\\')[-1].split('.')[0]"
   ]
  },
  {
   "cell_type": "code",
   "execution_count": 14,
   "id": "3966e4c0-3b1e-4733-8536-32d03bf103f9",
   "metadata": {},
   "outputs": [],
   "source": [
    "frames, alignments = load_data(tf.convert_to_tensor(test_path))"
   ]
  },
  {
   "cell_type": "code",
   "execution_count": 15,
   "id": "602adb26-2c61-4070-8555-14fcf3e308ee",
   "metadata": {},
   "outputs": [
    {
     "data": {
      "text/plain": [
       "<matplotlib.image.AxesImage at 0x2306b2a7710>"
      ]
     },
     "execution_count": 15,
     "metadata": {},
     "output_type": "execute_result"
    },
    {
     "data": {
      "image/png": "[encoded data removed]",
      "text/plain": [
       "<Figure size 640x480 with 1 Axes>"
      ]
     },
     "metadata": {},
     "output_type": "display_data"
    }
   ],
   "source": [
    "plt.imshow(frames[40])"
   ]
  },
  {
   "cell_type": "code",
   "execution_count": 17,
   "id": "e8a0bd01-ae50-4c66-b017-caa7c02728ef",
   "metadata": {},
   "outputs": [
    {
     "data": {
      "text/plain": [
       "<tf.Tensor: shape=(21,), dtype=int64, numpy=\n",
       "array([ 2,  9, 14, 39,  2, 12, 21,  5, 39,  1, 20, 39, 12, 39, 19,  9, 24,\n",
       "       39, 14, 15, 23], dtype=int64)>"
      ]
     },
     "execution_count": 17,
     "metadata": {},
     "output_type": "execute_result"
    }
   ],
   "source": [
    "alignments"
   ]
  },
  {
   "cell_type": "code",
   "execution_count": 18,
   "id": "44d12b1d-0a95-4c6b-b3d9-7df21401554b",
   "metadata": {},
   "outputs": [
    {
     "data": {
      "text/plain": [
       "<tf.Tensor: shape=(), dtype=string, numpy=b'bin blue at l six now'>"
      ]
     },
     "execution_count": 18,
     "metadata": {},
     "output_type": "execute_result"
    }
   ],
   "source": [
    "tf.strings.reduce_join([bytes.decode(x) for x in num_to_char(alignments.numpy()).numpy()])"
   ]
  },
  {
   "cell_type": "code",
   "execution_count": 19,
   "id": "098cd9f3-35ca-4dd1-955d-49bdf1478fd0",
   "metadata": {},
   "outputs": [],
   "source": [
    "def mappable_function(path:str) ->List[str]:\n",
    "    result = tf.py_function(load_data, [path], (tf.float32, tf.int64))\n",
    "    return result"
   ]
  },
  {
   "cell_type": "markdown",
   "id": "23cc4451-6f85-48ba-a7ad-a1361b764182",
   "metadata": {},
   "source": [
    "**Data Pipeline**"
   ]
  },
  {
   "cell_type": "code",
   "execution_count": 28,
   "id": "74b5edf9-152f-4456-aebd-f102f2da1181",
   "metadata": {},
   "outputs": [],
   "source": [
    "from matplotlib import pyplot as plt"
   ]
  },
  {
   "cell_type": "code",
   "execution_count": 29,
   "id": "4f8ff063-4de2-4c9b-abbf-bc885023c3e7",
   "metadata": {},
   "outputs": [],
   "source": [
    "data = tf.data.Dataset.list_files('./data/s1/*.mpg')\n",
    "data = data.shuffle(500, reshuffle_each_iteration=False)\n",
    "data = data.map(mappable_function)\n",
    "data = data.padded_batch(2, padded_shapes=([75,None,None,None],[40]))\n",
    "data = data.prefetch(tf.data.AUTOTUNE)\n",
    "# Added for split \n",
    "train = data.take(450)\n",
    "test = data.skip(450)"
   ]
  },
  {
   "cell_type": "code",
   "execution_count": 30,
   "id": "b1e1c5d9-21af-45f4-983c-03f56353f6fd",
   "metadata": {},
   "outputs": [
    {
     "data": {
      "text/plain": [
       "50"
      ]
     },
     "execution_count": 30,
     "metadata": {},
     "output_type": "execute_result"
    }
   ],
   "source": [
    "len(test)"
   ]
  },
  {
   "cell_type": "code",
   "execution_count": 31,
   "id": "1ef1d544-be2d-493b-9a91-b4b3afb4aed2",
   "metadata": {},
   "outputs": [],
   "source": [
    "frames, alignments = data.as_numpy_iterator().next()"
   ]
  },
  {
   "cell_type": "code",
   "execution_count": 32,
   "id": "63b35eb1-d506-4259-a32c-dfb43cbf71e1",
   "metadata": {},
   "outputs": [
    {
     "data": {
      "text/plain": [
       "2"
      ]
     },
     "execution_count": 32,
     "metadata": {},
     "output_type": "execute_result"
    }
   ],
   "source": [
    "len(frames)"
   ]
  },
  {
   "cell_type": "code",
   "execution_count": 33,
   "id": "90502c03-8e51-4d93-a23c-5d63466cb20c",
   "metadata": {},
   "outputs": [],
   "source": [
    "sample = data.as_numpy_iterator()"
   ]
  },
  {
   "cell_type": "code",
   "execution_count": 34,
   "id": "d72e2344-630f-459a-bddd-3ed3effbc2b8",
   "metadata": {},
   "outputs": [
    {
     "data": {
      "text/plain": [
       "array([[[[[1.5064517 ],\n",
       "          [1.5064517 ],\n",
       "          [1.5064517 ],\n",
       "          ...,\n",
       "          [0.7725394 ],\n",
       "          [0.9270472 ],\n",
       "          [0.8111663 ]],\n",
       "\n",
       "         [[1.5064517 ],\n",
       "          [1.5064517 ],\n",
       "          [1.5064517 ],\n",
       "          ...,\n",
       "          [0.8111663 ],\n",
       "          [1.0043012 ],\n",
       "          [0.57940453]],\n",
       "\n",
       "         [[1.3905709 ],\n",
       "          [1.3905709 ],\n",
       "          [1.3905709 ],\n",
       "          ...,\n",
       "          [0.8884202 ],\n",
       "          [0.9270472 ],\n",
       "          [9.81125   ]],\n",
       "\n",
       "         ...,\n",
       "\n",
       "         [[1.0429281 ],\n",
       "          [1.0429281 ],\n",
       "          [1.0043012 ],\n",
       "          ...,\n",
       "          [0.1158809 ],\n",
       "          [0.1158809 ],\n",
       "          [0.1158809 ]],\n",
       "\n",
       "         [[1.0429281 ],\n",
       "          [1.0429281 ],\n",
       "          [1.0043012 ],\n",
       "          ...,\n",
       "          [0.15450788],\n",
       "          [0.1158809 ],\n",
       "          [0.1158809 ]],\n",
       "\n",
       "         [[1.0429281 ],\n",
       "          [1.0429281 ],\n",
       "          [1.0043012 ],\n",
       "          ...,\n",
       "          [0.15450788],\n",
       "          [0.1158809 ],\n",
       "          [0.07725394]]],\n",
       "\n",
       "\n",
       "        [[[1.5064517 ],\n",
       "          [1.5064517 ],\n",
       "          [1.4678248 ],\n",
       "          ...,\n",
       "          [0.69528544],\n",
       "          [0.9270472 ],\n",
       "          [0.7725394 ]],\n",
       "\n",
       "         [[1.5064517 ],\n",
       "          [1.5064517 ],\n",
       "          [1.4678248 ],\n",
       "          ...,\n",
       "          [0.7339124 ],\n",
       "          [1.0815551 ],\n",
       "          [0.42489663]],\n",
       "\n",
       "         [[1.4291978 ],\n",
       "          [1.4291978 ],\n",
       "          [1.4291978 ],\n",
       "          ...,\n",
       "          [0.7725394 ],\n",
       "          [1.197436  ],\n",
       "          [0.1158809 ]],\n",
       "\n",
       "         ...,\n",
       "\n",
       "         [[1.0429281 ],\n",
       "          [1.0429281 ],\n",
       "          [1.0043012 ],\n",
       "          ...,\n",
       "          [0.15450788],\n",
       "          [0.1158809 ],\n",
       "          [0.1158809 ]],\n",
       "\n",
       "         [[1.0429281 ],\n",
       "          [1.0429281 ],\n",
       "          [1.0043012 ],\n",
       "          ...,\n",
       "          [0.1158809 ],\n",
       "          [0.07725394],\n",
       "          [0.03862697]],\n",
       "\n",
       "         [[1.0429281 ],\n",
       "          [1.0429281 ],\n",
       "          [1.0043012 ],\n",
       "          ...,\n",
       "          [0.1158809 ],\n",
       "          [0.03862697],\n",
       "          [0.03862697]]],\n",
       "\n",
       "\n",
       "        [[[1.4291978 ],\n",
       "          [1.4291978 ],\n",
       "          [1.3905709 ],\n",
       "          ...,\n",
       "          [0.6566585 ],\n",
       "          [0.8884202 ],\n",
       "          [0.7339124 ]],\n",
       "\n",
       "         [[1.4291978 ],\n",
       "          [1.4291978 ],\n",
       "          [1.3905709 ],\n",
       "          ...,\n",
       "          [0.5021506 ],\n",
       "          [0.96567416],\n",
       "          [0.57940453]],\n",
       "\n",
       "         [[1.3905709 ],\n",
       "          [1.3905709 ],\n",
       "          [1.4291978 ],\n",
       "          ...,\n",
       "          [0.7339124 ],\n",
       "          [1.236063  ],\n",
       "          [0.07725394]],\n",
       "\n",
       "         ...,\n",
       "\n",
       "         [[1.0043012 ],\n",
       "          [1.0043012 ],\n",
       "          [0.96567416],\n",
       "          ...,\n",
       "          [0.2317618 ],\n",
       "          [0.1158809 ],\n",
       "          [0.1158809 ]],\n",
       "\n",
       "         [[1.0043012 ],\n",
       "          [1.0043012 ],\n",
       "          [0.96567416],\n",
       "          ...,\n",
       "          [0.19313484],\n",
       "          [0.07725394],\n",
       "          [0.03862697]],\n",
       "\n",
       "         [[1.0043012 ],\n",
       "          [1.0043012 ],\n",
       "          [0.96567416],\n",
       "          ...,\n",
       "          [0.19313484],\n",
       "          [0.03862697],\n",
       "          [0.03862697]]],\n",
       "\n",
       "\n",
       "        ...,\n",
       "\n",
       "\n",
       "        [[[1.5064517 ],\n",
       "          [1.5064517 ],\n",
       "          [1.4678248 ],\n",
       "          ...,\n",
       "          [0.7339124 ],\n",
       "          [0.9270472 ],\n",
       "          [0.1158809 ]],\n",
       "\n",
       "         [[1.5064517 ],\n",
       "          [1.5064517 ],\n",
       "          [1.4678248 ],\n",
       "          ...,\n",
       "          [0.6566585 ],\n",
       "          [0.54077756],\n",
       "          [9.42498   ]],\n",
       "\n",
       "         [[1.3905709 ],\n",
       "          [1.3905709 ],\n",
       "          [1.3905709 ],\n",
       "          ...,\n",
       "          [0.34764272],\n",
       "          [0.19313484],\n",
       "          [9.42498   ]],\n",
       "\n",
       "         ...,\n",
       "\n",
       "         [[1.0043012 ],\n",
       "          [0.96567416],\n",
       "          [0.96567416],\n",
       "          ...,\n",
       "          [0.03862697],\n",
       "          [0.03862697],\n",
       "          [0.03862697]],\n",
       "\n",
       "         [[1.0043012 ],\n",
       "          [0.96567416],\n",
       "          [0.96567416],\n",
       "          ...,\n",
       "          [0.07725394],\n",
       "          [0.        ],\n",
       "          [0.        ]],\n",
       "\n",
       "         [[1.0043012 ],\n",
       "          [0.96567416],\n",
       "          [0.96567416],\n",
       "          ...,\n",
       "          [0.07725394],\n",
       "          [0.        ],\n",
       "          [9.849876  ]]],\n",
       "\n",
       "\n",
       "        [[[1.5064517 ],\n",
       "          [1.5064517 ],\n",
       "          [1.4678248 ],\n",
       "          ...,\n",
       "          [0.7339124 ],\n",
       "          [0.8884202 ],\n",
       "          [0.07725394]],\n",
       "\n",
       "         [[1.4678248 ],\n",
       "          [1.4678248 ],\n",
       "          [1.3905709 ],\n",
       "          ...,\n",
       "          [0.7339124 ],\n",
       "          [0.57940453],\n",
       "          [9.193218  ]],\n",
       "\n",
       "         [[1.3905709 ],\n",
       "          [1.3905709 ],\n",
       "          [1.3905709 ],\n",
       "          ...,\n",
       "          [0.4635236 ],\n",
       "          [0.30901575],\n",
       "          [9.3863535 ]],\n",
       "\n",
       "         ...,\n",
       "\n",
       "         [[1.0043012 ],\n",
       "          [0.96567416],\n",
       "          [0.96567416],\n",
       "          ...,\n",
       "          [0.15450788],\n",
       "          [0.03862697],\n",
       "          [0.03862697]],\n",
       "\n",
       "         [[1.0043012 ],\n",
       "          [0.96567416],\n",
       "          [0.96567416],\n",
       "          ...,\n",
       "          [0.1158809 ],\n",
       "          [0.        ],\n",
       "          [0.        ]],\n",
       "\n",
       "         [[1.0043012 ],\n",
       "          [0.96567416],\n",
       "          [0.96567416],\n",
       "          ...,\n",
       "          [0.1158809 ],\n",
       "          [0.        ],\n",
       "          [9.849876  ]]],\n",
       "\n",
       "\n",
       "        [[[1.5064517 ],\n",
       "          [1.5064517 ],\n",
       "          [1.4678248 ],\n",
       "          ...,\n",
       "          [0.57940453],\n",
       "          [0.96567416],\n",
       "          [0.19313484]],\n",
       "\n",
       "         [[1.3905709 ],\n",
       "          [1.3905709 ],\n",
       "          [1.3905709 ],\n",
       "          ...,\n",
       "          [0.7339124 ],\n",
       "          [0.69528544],\n",
       "          [9.231845  ]],\n",
       "\n",
       "         [[1.4291978 ],\n",
       "          [1.3905709 ],\n",
       "          [1.3905709 ],\n",
       "          ...,\n",
       "          [0.54077756],\n",
       "          [0.34764272],\n",
       "          [9.3863535 ]],\n",
       "\n",
       "         ...,\n",
       "\n",
       "         [[1.0043012 ],\n",
       "          [1.0043012 ],\n",
       "          [0.96567416],\n",
       "          ...,\n",
       "          [0.19313484],\n",
       "          [0.07725394],\n",
       "          [0.03862697]],\n",
       "\n",
       "         [[1.0429281 ],\n",
       "          [1.0429281 ],\n",
       "          [1.0043012 ],\n",
       "          ...,\n",
       "          [0.15450788],\n",
       "          [0.        ],\n",
       "          [0.        ]],\n",
       "\n",
       "         [[1.0429281 ],\n",
       "          [1.0429281 ],\n",
       "          [1.0043012 ],\n",
       "          ...,\n",
       "          [0.1158809 ],\n",
       "          [0.        ],\n",
       "          [9.849876  ]]]],\n",
       "\n",
       "\n",
       "\n",
       "       [[[[1.2392342 ],\n",
       "          [1.2392342 ],\n",
       "          [1.2392342 ],\n",
       "          ...,\n",
       "          [0.51967883],\n",
       "          [0.43972826],\n",
       "          [0.31980237]],\n",
       "\n",
       "         [[1.2392342 ],\n",
       "          [1.2392342 ],\n",
       "          [1.2392342 ],\n",
       "          ...,\n",
       "          [0.47970355],\n",
       "          [0.43972826],\n",
       "          [0.31980237]],\n",
       "\n",
       "         [[1.1992589 ],\n",
       "          [1.1992589 ],\n",
       "          [1.1992589 ],\n",
       "          ...,\n",
       "          [0.79950595],\n",
       "          [0.59962946],\n",
       "          [0.47970355]],\n",
       "\n",
       "         ...,\n",
       "\n",
       "         [[0.79950595],\n",
       "          [0.79950595],\n",
       "          [0.79950595],\n",
       "          ...,\n",
       "          [0.63960475],\n",
       "          [9.634047  ],\n",
       "          [8.114985  ]],\n",
       "\n",
       "         [[0.79950595],\n",
       "          [0.79950595],\n",
       "          [0.79950595],\n",
       "          ...,\n",
       "          [0.5596541 ],\n",
       "          [0.0399753 ],\n",
       "          [7.955084  ]],\n",
       "\n",
       "         [[0.79950595],\n",
       "          [0.79950595],\n",
       "          [0.79950595],\n",
       "          ...,\n",
       "          [0.7195553 ],\n",
       "          [0.59962946],\n",
       "          [8.274886  ]]],\n",
       "\n",
       "\n",
       "        [[[1.1992589 ],\n",
       "          [1.1992589 ],\n",
       "          [1.1592836 ],\n",
       "          ...,\n",
       "          [0.5596541 ],\n",
       "          [0.39975297],\n",
       "          [0.35977766]],\n",
       "\n",
       "         [[1.1992589 ],\n",
       "          [1.1992589 ],\n",
       "          [1.1592836 ],\n",
       "          ...,\n",
       "          [0.5596541 ],\n",
       "          [0.43972826],\n",
       "          [0.35977766]],\n",
       "\n",
       "         [[1.079333  ],\n",
       "          [1.079333  ],\n",
       "          [1.079333  ],\n",
       "          ...,\n",
       "          [0.63960475],\n",
       "          [0.47970355],\n",
       "          [0.35977766]],\n",
       "\n",
       "         ...,\n",
       "\n",
       "         [[0.7595306 ],\n",
       "          [0.7595306 ],\n",
       "          [0.7595306 ],\n",
       "          ...,\n",
       "          [0.7195553 ],\n",
       "          [9.833922  ],\n",
       "          [7.9151087 ]],\n",
       "\n",
       "         [[0.7195553 ],\n",
       "          [0.7195553 ],\n",
       "          [0.7195553 ],\n",
       "          ...,\n",
       "          [0.59962946],\n",
       "          [0.23985177],\n",
       "          [7.835158  ]],\n",
       "\n",
       "         [[0.7195553 ],\n",
       "          [0.7195553 ],\n",
       "          [0.7195553 ],\n",
       "          ...,\n",
       "          [0.7195553 ],\n",
       "          [0.67958003],\n",
       "          [8.075009  ]]],\n",
       "\n",
       "\n",
       "        [[[1.1992589 ],\n",
       "          [1.1992589 ],\n",
       "          [1.1592836 ],\n",
       "          ...,\n",
       "          [0.5596541 ],\n",
       "          [0.39975297],\n",
       "          [0.27982706]],\n",
       "\n",
       "         [[1.1992589 ],\n",
       "          [1.1992589 ],\n",
       "          [1.1592836 ],\n",
       "          ...,\n",
       "          [0.5596541 ],\n",
       "          [0.47970355],\n",
       "          [0.35977766]],\n",
       "\n",
       "         [[1.2392342 ],\n",
       "          [1.2392342 ],\n",
       "          [1.1992589 ],\n",
       "          ...,\n",
       "          [0.5596541 ],\n",
       "          [0.43972826],\n",
       "          [0.31980237]],\n",
       "\n",
       "         ...,\n",
       "\n",
       "         [[0.7595306 ],\n",
       "          [0.7595306 ],\n",
       "          [0.7595306 ],\n",
       "          ...,\n",
       "          [0.7195553 ],\n",
       "          [9.993824  ],\n",
       "          [7.995059  ]],\n",
       "\n",
       "         [[0.7195553 ],\n",
       "          [0.7195553 ],\n",
       "          [0.7195553 ],\n",
       "          ...,\n",
       "          [0.5596541 ],\n",
       "          [0.27982706],\n",
       "          [7.955084  ]],\n",
       "\n",
       "         [[0.7195553 ],\n",
       "          [0.7195553 ],\n",
       "          [0.7195553 ],\n",
       "          ...,\n",
       "          [0.63960475],\n",
       "          [0.63960475],\n",
       "          [8.274886  ]]],\n",
       "\n",
       "\n",
       "        ...,\n",
       "\n",
       "\n",
       "        [[[1.2392342 ],\n",
       "          [1.2392342 ],\n",
       "          [1.1992589 ],\n",
       "          ...,\n",
       "          [0.5596541 ],\n",
       "          [0.5596541 ],\n",
       "          [0.47970355]],\n",
       "\n",
       "         [[1.1992589 ],\n",
       "          [1.1992589 ],\n",
       "          [1.1592836 ],\n",
       "          ...,\n",
       "          [0.5596541 ],\n",
       "          [0.5596541 ],\n",
       "          [0.47970355]],\n",
       "\n",
       "         [[1.1193082 ],\n",
       "          [1.079333  ],\n",
       "          [1.079333  ],\n",
       "          ...,\n",
       "          [0.47970355],\n",
       "          [0.43972826],\n",
       "          [0.47970355]],\n",
       "\n",
       "         ...,\n",
       "\n",
       "         [[0.83948123],\n",
       "          [0.79950595],\n",
       "          [0.79950595],\n",
       "          ...,\n",
       "          [0.63960475],\n",
       "          [0.79950595],\n",
       "          [0.8794565 ]],\n",
       "\n",
       "         [[0.79950595],\n",
       "          [0.79950595],\n",
       "          [0.79950595],\n",
       "          ...,\n",
       "          [0.7195553 ],\n",
       "          [0.8794565 ],\n",
       "          [0.59962946]],\n",
       "\n",
       "         [[0.79950595],\n",
       "          [0.79950595],\n",
       "          [0.79950595],\n",
       "          ...,\n",
       "          [0.7595306 ],\n",
       "          [0.83948123],\n",
       "          [0.5596541 ]]],\n",
       "\n",
       "\n",
       "        [[[1.2392342 ],\n",
       "          [1.2392342 ],\n",
       "          [1.1992589 ],\n",
       "          ...,\n",
       "          [0.5596541 ],\n",
       "          [0.5596541 ],\n",
       "          [0.47970355]],\n",
       "\n",
       "         [[1.1992589 ],\n",
       "          [1.1992589 ],\n",
       "          [1.1592836 ],\n",
       "          ...,\n",
       "          [0.5596541 ],\n",
       "          [0.5596541 ],\n",
       "          [0.47970355]],\n",
       "\n",
       "         [[1.1193082 ],\n",
       "          [1.079333  ],\n",
       "          [1.079333  ],\n",
       "          ...,\n",
       "          [0.43972826],\n",
       "          [0.39975297],\n",
       "          [0.43972826]],\n",
       "\n",
       "         ...,\n",
       "\n",
       "         [[0.83948123],\n",
       "          [0.79950595],\n",
       "          [0.79950595],\n",
       "          ...,\n",
       "          [0.63960475],\n",
       "          [0.79950595],\n",
       "          [0.8794565 ]],\n",
       "\n",
       "         [[0.79950595],\n",
       "          [0.79950595],\n",
       "          [0.79950595],\n",
       "          ...,\n",
       "          [0.7195553 ],\n",
       "          [0.8794565 ],\n",
       "          [0.59962946]],\n",
       "\n",
       "         [[0.79950595],\n",
       "          [0.79950595],\n",
       "          [0.79950595],\n",
       "          ...,\n",
       "          [0.7595306 ],\n",
       "          [0.83948123],\n",
       "          [0.5596541 ]]],\n",
       "\n",
       "\n",
       "        [[[1.1992589 ],\n",
       "          [1.1992589 ],\n",
       "          [1.1592836 ],\n",
       "          ...,\n",
       "          [0.63960475],\n",
       "          [0.59962946],\n",
       "          [0.51967883]],\n",
       "\n",
       "         [[1.1592836 ],\n",
       "          [1.1592836 ],\n",
       "          [1.1193082 ],\n",
       "          ...,\n",
       "          [0.63960475],\n",
       "          [0.59962946],\n",
       "          [0.51967883]],\n",
       "\n",
       "         [[1.1592836 ],\n",
       "          [1.1193082 ],\n",
       "          [1.1193082 ],\n",
       "          ...,\n",
       "          [0.47970355],\n",
       "          [0.43972826],\n",
       "          [0.47970355]],\n",
       "\n",
       "         ...,\n",
       "\n",
       "         [[0.83948123],\n",
       "          [0.79950595],\n",
       "          [0.79950595],\n",
       "          ...,\n",
       "          [0.63960475],\n",
       "          [0.79950595],\n",
       "          [0.79950595]],\n",
       "\n",
       "         [[0.79950595],\n",
       "          [0.79950595],\n",
       "          [0.79950595],\n",
       "          ...,\n",
       "          [0.7195553 ],\n",
       "          [0.83948123],\n",
       "          [0.63960475]],\n",
       "\n",
       "         [[0.79950595],\n",
       "          [0.79950595],\n",
       "          [0.79950595],\n",
       "          ...,\n",
       "          [0.7595306 ],\n",
       "          [0.8794565 ],\n",
       "          [0.63960475]]]]], dtype=float32)"
      ]
     },
     "execution_count": 34,
     "metadata": {},
     "output_type": "execute_result"
    }
   ],
   "source": [
    "val = sample.next(); val[0]"
   ]
  },
  {
   "cell_type": "code",
   "execution_count": 57,
   "id": "a93566c7-7bf5-478b-90ee-85a2e3aa53e8",
   "metadata": {},
   "outputs": [],
   "source": [
    "image_data = val[0][1]\n",
    "image_data = np.squeeze(image_data)\n",
    "image_data = image_data.astype(np.uint8)\n",
    "brightened_image_data = np.clip(image_data + 180, 0, 255)  \n",
    "imageio.mimsave('./animation.gif', brightened_image_data, fps=10)\n"
   ]
  },
  {
   "cell_type": "code",
   "execution_count": 59,
   "id": "01da1ac6-c0bc-48e2-9ba5-3bd321aef561",
   "metadata": {},
   "outputs": [
    {
     "data": {
      "text/plain": [
       "<matplotlib.image.AxesImage at 0x2306fb88190>"
      ]
     },
     "execution_count": 59,
     "metadata": {},
     "output_type": "execute_result"
    },
    {
     "data": {
      "image/png": "[encoded data removed]",
      "text/plain": [
       "<Figure size 640x480 with 1 Axes>"
      ]
     },
     "metadata": {},
     "output_type": "display_data"
    }
   ],
   "source": [
    "plt.imshow(val[0][0][0])"
   ]
  },
  {
   "cell_type": "code",
   "execution_count": 60,
   "id": "6694f515-7da2-4ebe-82cf-ac886e2a1286",
   "metadata": {},
   "outputs": [
    {
     "data": {
      "text/plain": [
       "<tf.Tensor: shape=(), dtype=string, numpy=b'bin white by t eight sp please'>"
      ]
     },
     "execution_count": 60,
     "metadata": {},
     "output_type": "execute_result"
    }
   ],
   "source": [
    "tf.strings.reduce_join([num_to_char(word) for word in val[1][0]])"
   ]
  },
  {
   "cell_type": "markdown",
   "id": "5a90aeb1-fade-4b39-bf73-3dcf5f4001b4",
   "metadata": {},
   "source": [
    "**Designing Neural Network**"
   ]
  },
  {
   "cell_type": "code",
   "execution_count": 61,
   "id": "e04f7c22-2bf4-4808-8de2-a47a7ecbda9a",
   "metadata": {},
   "outputs": [],
   "source": [
    "from tensorflow.keras.models import Sequential \n",
    "from tensorflow.keras.layers import Conv3D, LSTM, Dense, Dropout, Bidirectional, MaxPool3D, Activation, Reshape, SpatialDropout3D, BatchNormalization, TimeDistributed, Flatten\n",
    "from tensorflow.keras.optimizers import Adam\n",
    "from tensorflow.keras.callbacks import ModelCheckpoint, LearningRateScheduler"
   ]
  },
  {
   "cell_type": "code",
   "execution_count": 104,
   "id": "ed4b388b-46f6-4b25-9a15-f5b2418c7189",
   "metadata": {},
   "outputs": [],
   "source": [
    "model = tf.keras.Sequential()\n",
    "model.add(Conv3D(128, 3, input_shape=(75,46,140,1), padding='same'))\n",
    "model.add(Activation('relu'))\n",
    "model.add(MaxPool3D((1,2,2)))\n",
    "\n",
    "model.add(Conv3D(256, 3, padding='same'))\n",
    "model.add(Activation('relu'))\n",
    "model.add(MaxPool3D((1,2,2)))\n",
    "\n",
    "model.add(Conv3D(75, 3, padding='same'))\n",
    "model.add(Activation('relu'))\n",
    "model.add(MaxPool3D((1,2,2)))\n",
    "\n",
    "model.add(TimeDistributed(Flatten()))\n",
    "\n",
    "model.add(Bidirectional(LSTM(128, kernel_initializer='Orthogonal', return_sequences=True)))\n",
    "model.add(Dropout(.5))\n",
    "\n",
    "model.add(Bidirectional(LSTM(128, kernel_initializer='Orthogonal', return_sequences=True)))\n",
    "model.add(Dropout(.5))\n",
    "\n",
    "model.add(Dense(char_to_num.vocabulary_size()+1, kernel_initializer='he_normal', activation='softmax'))"
   ]
  },
  {
   "cell_type": "code",
   "execution_count": 105,
   "id": "cd02a4be-f2c6-4afd-8841-7de87391bae7",
   "metadata": {},
   "outputs": [
    {
     "name": "stdout",
     "output_type": "stream",
     "text": [
      "Model: \"sequential_3\"\n",
      "_________________________________________________________________\n",
      " Layer (type)                Output Shape              Param #   \n",
      "=================================================================\n",
      " conv3d_9 (Conv3D)           (None, 75, 46, 140, 128   3584      \n",
      "                             )                                   \n",
      "                                                                 \n",
      " activation_9 (Activation)   (None, 75, 46, 140, 128   0         \n",
      "                             )                                   \n",
      "                                                                 \n",
      " max_pooling3d_9 (MaxPoolin  (None, 75, 23, 70, 128)   0         \n",
      " g3D)                                                            \n",
      "                                                                 \n",
      " conv3d_10 (Conv3D)          (None, 75, 23, 70, 256)   884992    \n",
      "                                                                 \n",
      " activation_10 (Activation)  (None, 75, 23, 70, 256)   0         \n",
      "                                                                 \n",
      " max_pooling3d_10 (MaxPooli  (None, 75, 11, 35, 256)   0         \n",
      " ng3D)                                                           \n",
      "                                                                 \n",
      " conv3d_11 (Conv3D)          (None, 75, 11, 35, 75)    518475    \n",
      "                                                                 \n",
      " activation_11 (Activation)  (None, 75, 11, 35, 75)    0         \n",
      "                                                                 \n",
      " max_pooling3d_11 (MaxPooli  (None, 75, 5, 17, 75)     0         \n",
      " ng3D)                                                           \n",
      "                                                                 \n",
      " time_distributed_3 (TimeDi  (None, 75, 6375)          0         \n",
      " stributed)                                                      \n",
      "                                                                 \n",
      " bidirectional_6 (Bidirecti  (None, 75, 256)           6660096   \n",
      " onal)                                                           \n",
      "                                                                 \n",
      " dropout_6 (Dropout)         (None, 75, 256)           0         \n",
      "                                                                 \n",
      " bidirectional_7 (Bidirecti  (None, 75, 256)           394240    \n",
      " onal)                                                           \n",
      "                                                                 \n",
      " dropout_7 (Dropout)         (None, 75, 256)           0         \n",
      "                                                                 \n",
      " dense_3 (Dense)             (None, 75, 41)            10537     \n",
      "                                                                 \n",
      "=================================================================\n",
      "Total params: 8471924 (32.32 MB)\n",
      "Trainable params: 8471924 (32.32 MB)\n",
      "Non-trainable params: 0 (0.00 Byte)\n",
      "_________________________________________________________________\n"
     ]
    }
   ],
   "source": [
    "model.summary()"
   ]
  },
  {
   "cell_type": "code",
   "execution_count": 106,
   "id": "ea7154f6-750c-4867-80ce-1efcbf60b030",
   "metadata": {},
   "outputs": [
    {
     "name": "stdout",
     "output_type": "stream",
     "text": [
      "1/1 [==============================] - 2s 2s/step\n"
     ]
    }
   ],
   "source": [
    "yhat = model.predict(val[0])"
   ]
  },
  {
   "cell_type": "code",
   "execution_count": 107,
   "id": "7c7c2033-8adb-4bcf-83c0-d54de10a7d78",
   "metadata": {},
   "outputs": [
    {
     "data": {
      "text/plain": [
       "<tf.Tensor: shape=(), dtype=string, numpy=b'hhhhhhhhhhhhhhhhh7777777777777777777777777777777777777777777777777777777zzq'>"
      ]
     },
     "execution_count": 107,
     "metadata": {},
     "output_type": "execute_result"
    }
   ],
   "source": [
    "tf.strings.reduce_join([num_to_char(x) for x in tf.argmax(yhat[0],axis=1)])"
   ]
  },
  {
   "cell_type": "code",
   "execution_count": 108,
   "id": "139c7da0-0d31-4903-b0dd-37fc62e176f3",
   "metadata": {},
   "outputs": [
    {
     "data": {
      "text/plain": [
       "<tf.Tensor: shape=(), dtype=string, numpy=b'hhhhhhhhhhhhhhhhh7777777777777777777777777777777777777777777777777777777zzq'>"
      ]
     },
     "execution_count": 108,
     "metadata": {},
     "output_type": "execute_result"
    }
   ],
   "source": [
    "tf.strings.reduce_join([num_to_char(tf.argmax(x)) for x in yhat[0]])"
   ]
  },
  {
   "cell_type": "code",
   "execution_count": 109,
   "id": "cdf2346e-f841-4083-8c0a-7b094ee01fcc",
   "metadata": {},
   "outputs": [
    {
     "data": {
      "text/plain": [
       "(None, 75, 46, 140, 1)"
      ]
     },
     "execution_count": 109,
     "metadata": {},
     "output_type": "execute_result"
    }
   ],
   "source": [
    "model.input_shape"
   ]
  },
  {
   "cell_type": "code",
   "execution_count": 110,
   "id": "0e16cb3b-d526-4330-8651-d7b26a181532",
   "metadata": {},
   "outputs": [
    {
     "data": {
      "text/plain": [
       "(None, 75, 41)"
      ]
     },
     "execution_count": 110,
     "metadata": {},
     "output_type": "execute_result"
    }
   ],
   "source": [
    "model.output_shape"
   ]
  },
  {
   "cell_type": "markdown",
   "id": "60ef9071-5f32-4d3f-b01a-72899bcf2db4",
   "metadata": {},
   "source": [
    "**Training**"
   ]
  },
  {
   "cell_type": "code",
   "execution_count": 111,
   "id": "d9a8bb6f-5267-489c-8e1a-66e06b242f9b",
   "metadata": {},
   "outputs": [],
   "source": [
    "def scheduler(epoch, lr):\n",
    "    if epoch < 30:\n",
    "        return lr\n",
    "    else:\n",
    "        return lr * tf.math.exp(-0.1)"
   ]
  },
  {
   "cell_type": "code",
   "execution_count": 112,
   "id": "9bcb7862-1587-4764-b16b-fba62efdb19b",
   "metadata": {},
   "outputs": [],
   "source": [
    "def CTCLoss(y_true, y_pred):\n",
    "    batch_len = tf.cast(tf.shape(y_true)[0], dtype=\"int64\")\n",
    "    input_length = tf.cast(tf.shape(y_pred)[1], dtype=\"int64\")\n",
    "    label_length = tf.cast(tf.shape(y_true)[1], dtype=\"int64\")\n",
    "\n",
    "    input_length = input_length * tf.ones(shape=(batch_len, 1), dtype=\"int64\")\n",
    "    label_length = label_length * tf.ones(shape=(batch_len, 1), dtype=\"int64\")\n",
    "\n",
    "    loss = tf.keras.backend.ctc_batch_cost(y_true, y_pred, input_length, label_length)\n",
    "    return loss"
   ]
  },
  {
   "cell_type": "code",
   "execution_count": 113,
   "id": "29b073dc-eb7f-4416-9f5f-decb51d2bab4",
   "metadata": {},
   "outputs": [],
   "source": [
    "class ProduceExample(tf.keras.callbacks.Callback): \n",
    "    def __init__(self, dataset) -> None: \n",
    "        self.dataset = dataset.as_numpy_iterator()\n",
    "    \n",
    "    def on_epoch_end(self, epoch, logs=None) -> None:\n",
    "        data = self.dataset.next()\n",
    "        yhat = self.model.predict(data[0])\n",
    "        decoded = tf.keras.backend.ctc_decode(yhat, [75,75], greedy=False)[0][0].numpy()\n",
    "        for x in range(len(yhat)):           \n",
    "            print('Original:', tf.strings.reduce_join(num_to_char(data[1][x])).numpy().decode('utf-8'))\n",
    "            print('Prediction:', tf.strings.reduce_join(num_to_char(decoded[x])).numpy().decode('utf-8'))\n",
    "            print('~'*100)"
   ]
  },
  {
   "cell_type": "code",
   "execution_count": 123,
   "id": "a088e772-d8e3-465f-9060-45ed9dd6134b",
   "metadata": {},
   "outputs": [],
   "source": [
    "model.compile(optimizer=tf.keras.optimizers.legacy.Adam(learning_rate=0.0001), loss=CTCLoss)"
   ]
  },
  {
   "cell_type": "code",
   "execution_count": 124,
   "id": "0e0a7dbf-dad5-4ca2-aaed-23532f586b5c",
   "metadata": {},
   "outputs": [],
   "source": [
    "checkpoint_callback = ModelCheckpoint(os.path.join('models','checkpoint'), monitor='loss', save_weights_only=True) \n"
   ]
  },
  {
   "cell_type": "code",
   "execution_count": 125,
   "id": "9e117a8b-bdeb-4bc6-b17d-7c90c1342146",
   "metadata": {},
   "outputs": [],
   "source": [
    "schedule_callback = LearningRateScheduler(scheduler)\n"
   ]
  },
  {
   "cell_type": "code",
   "execution_count": 126,
   "id": "55ef1600-461f-45d0-b555-25115380b27a",
   "metadata": {},
   "outputs": [],
   "source": [
    "example_callback = ProduceExample(test)"
   ]
  },
  {
   "cell_type": "code",
   "execution_count": 127,
   "id": "ff619cbb-6cf4-4caf-ac21-440728afc4ae",
   "metadata": {
    "scrolled": true
   },
   "outputs": [],
   "source": [
    "# model.fit(train, validation_data=test, epochs=100, callbacks=[checkpoint_callback, schedule_callback, example_callback])"
   ]
  },
  {
   "cell_type": "markdown",
   "id": "362620cf-01a7-479d-ad9f-f17b3c8ceec5",
   "metadata": {},
   "source": [
    "**Checkpoints**"
   ]
  },
  {
   "cell_type": "code",
   "execution_count": 78,
   "id": "585eb080-cfa8-4c2d-99a2-400b66e20d3e",
   "metadata": {},
   "outputs": [
    {
     "name": "stderr",
     "output_type": "stream",
     "text": [
      "Downloading...\n",
      "From (original): https://drive.google.com/uc?id=1vWscXs4Vt0a_1IH1-ct2TCgXAZT-N3_Y\n",
      "From (redirected): https://drive.google.com/uc?id=1vWscXs4Vt0a_1IH1-ct2TCgXAZT-N3_Y&confirm=t&uuid=d3d09d57-6192-4c89-a273-b3939b1977bf\n",
      "To: C:\\Users\\91902\\OneDrive\\Desktop\\Projects\\Lip Reading ML\\checkpoints.zip\n",
      "100%|██████████| 94.5M/94.5M [00:09<00:00, 9.75MB/s]\n"
     ]
    },
    {
     "data": {
      "text/plain": [
       "['models\\\\checkpoint.index',\n",
       " 'models\\\\__MACOSX/._checkpoint.index',\n",
       " 'models\\\\checkpoint.data-00000-of-00001',\n",
       " 'models\\\\__MACOSX/._checkpoint.data-00000-of-00001',\n",
       " 'models\\\\checkpoint',\n",
       " 'models\\\\__MACOSX/._checkpoint']"
      ]
     },
     "execution_count": 78,
     "metadata": {},
     "output_type": "execute_result"
    }
   ],
   "source": [
    "url = 'https://drive.google.com/uc?id=1vWscXs4Vt0a_1IH1-ct2TCgXAZT-N3_Y'\n",
    "output = 'checkpoints.zip'\n",
    "gdown.download(url, output, quiet=False)\n",
    "gdown.extractall('checkpoints.zip', 'models')"
   ]
  },
  {
   "cell_type": "code",
   "execution_count": 128,
   "id": "c9756c48-1660-4ffd-9ef1-3f10f8fa2684",
   "metadata": {},
   "outputs": [
    {
     "data": {
      "text/plain": [
       "<tensorflow.python.checkpoint.checkpoint.CheckpointLoadStatus at 0x23148e724d0>"
      ]
     },
     "execution_count": 128,
     "metadata": {},
     "output_type": "execute_result"
    }
   ],
   "source": [
    "model.load_weights('models/checkpoint')"
   ]
  },
  {
   "cell_type": "code",
   "execution_count": 129,
   "id": "1275db19-840c-401f-aa94-eb46f2d1fc83",
   "metadata": {},
   "outputs": [],
   "source": [
    "test_data = test.as_numpy_iterator()"
   ]
  },
  {
   "cell_type": "code",
   "execution_count": 130,
   "id": "d104459b-beea-45a3-9ccc-2d37901b8b8a",
   "metadata": {},
   "outputs": [],
   "source": [
    "sample = test_data.next()"
   ]
  },
  {
   "cell_type": "code",
   "execution_count": 131,
   "id": "200a07a9-5be4-45fc-b77b-f1bf582e4873",
   "metadata": {},
   "outputs": [
    {
     "name": "stdout",
     "output_type": "stream",
     "text": [
      "WARNING:tensorflow:5 out of the last 6 calls to <function Model.make_predict_function.<locals>.predict_function at 0x000002307721C540> triggered tf.function retracing. Tracing is expensive and the excessive number of tracings could be due to (1) creating @tf.function repeatedly in a loop, (2) passing tensors with different shapes, (3) passing Python objects instead of tensors. For (1), please define your @tf.function outside of the loop. For (2), @tf.function has reduce_retracing=True option that can avoid unnecessary retracing. For (3), please refer to https://www.tensorflow.org/guide/function#controlling_retracing and https://www.tensorflow.org/api_docs/python/tf/function for  more details.\n",
      "1/1 [==============================] - 2s 2s/step\n"
     ]
    }
   ],
   "source": [
    "yhat = model.predict(sample[0])"
   ]
  },
  {
   "cell_type": "code",
   "execution_count": 132,
   "id": "130dc546-2d38-402f-9a05-987fc81c17c6",
   "metadata": {},
   "outputs": [
    {
     "name": "stdout",
     "output_type": "stream",
     "text": [
      "~~~~~~~~~~~~~~~~~~~~~~~~~~~~~~~~~~~~~~~~~~~~~~~~~~~~~~~~~~~~~~~~~~~~~~~~~~~~~~~~~~~~~~~~~~~~~~~~~~~~ REAL TEXT\n"
     ]
    },
    {
     "data": {
      "text/plain": [
       "[<tf.Tensor: shape=(), dtype=string, numpy=b'place blue in v zero please'>,\n",
       " <tf.Tensor: shape=(), dtype=string, numpy=b'place white at x four now'>]"
      ]
     },
     "execution_count": 132,
     "metadata": {},
     "output_type": "execute_result"
    }
   ],
   "source": [
    "print('~'*100, 'REAL TEXT')\n",
    "[tf.strings.reduce_join([num_to_char(word) for word in sentence]) for sentence in sample[1]]"
   ]
  },
  {
   "cell_type": "code",
   "execution_count": 133,
   "id": "00cd9593-14d8-4579-9947-059761d42c8a",
   "metadata": {},
   "outputs": [],
   "source": [
    "decoded = tf.keras.backend.ctc_decode(yhat, input_length=[75,75], greedy=True)[0][0].numpy()"
   ]
  },
  {
   "cell_type": "code",
   "execution_count": 134,
   "id": "a66528c1-b857-4140-a3c7-80bc8b6da6c4",
   "metadata": {},
   "outputs": [
    {
     "name": "stdout",
     "output_type": "stream",
     "text": [
      "~~~~~~~~~~~~~~~~~~~~~~~~~~~~~~~~~~~~~~~~~~~~~~~~~~~~~~~~~~~~~~~~~~~~~~~~~~~~~~~~~~~~~~~~~~~~~~~~~~~~ PREDICTIONS\n"
     ]
    },
    {
     "data": {
      "text/plain": [
       "[<tf.Tensor: shape=(), dtype=string, numpy=b'place blue in v zero please'>,\n",
       " <tf.Tensor: shape=(), dtype=string, numpy=b'place white at x four now'>]"
      ]
     },
     "execution_count": 134,
     "metadata": {},
     "output_type": "execute_result"
    }
   ],
   "source": [
    "print('~'*100, 'PREDICTIONS')\n",
    "[tf.strings.reduce_join([num_to_char(word) for word in sentence]) for sentence in decoded]"
   ]
  },
  {
   "cell_type": "markdown",
   "id": "42b47ddd-3b59-408b-bade-c92d9ca601aa",
   "metadata": {},
   "source": [
    "**Test on a Video**"
   ]
  },
  {
   "cell_type": "code",
   "execution_count": 135,
   "id": "898df70c-ec56-4d79-add0-844109854788",
   "metadata": {},
   "outputs": [],
   "source": [
    "sample = load_data(tf.convert_to_tensor('.\\\\data\\\\s1\\\\bras9a.mpg'))"
   ]
  },
  {
   "cell_type": "code",
   "execution_count": 136,
   "id": "6f43b3a4-1d36-455d-88b6-72b585ad2c89",
   "metadata": {},
   "outputs": [
    {
     "name": "stdout",
     "output_type": "stream",
     "text": [
      "~~~~~~~~~~~~~~~~~~~~~~~~~~~~~~~~~~~~~~~~~~~~~~~~~~~~~~~~~~~~~~~~~~~~~~~~~~~~~~~~~~~~~~~~~~~~~~~~~~~~ REAL TEXT\n"
     ]
    },
    {
     "data": {
      "text/plain": [
       "[<tf.Tensor: shape=(), dtype=string, numpy=b'bin red at s nine again'>]"
      ]
     },
     "execution_count": 136,
     "metadata": {},
     "output_type": "execute_result"
    }
   ],
   "source": [
    "print('~'*100, 'REAL TEXT')\n",
    "[tf.strings.reduce_join([num_to_char(word) for word in sentence]) for sentence in [sample[1]]]"
   ]
  },
  {
   "cell_type": "code",
   "execution_count": 137,
   "id": "1b89958f-bf7b-4925-aed5-18fb41871fbb",
   "metadata": {},
   "outputs": [
    {
     "name": "stdout",
     "output_type": "stream",
     "text": [
      "1/1 [==============================] - 0s 492ms/step\n"
     ]
    }
   ],
   "source": [
    "yhat = model.predict(tf.expand_dims(sample[0], axis=0))"
   ]
  },
  {
   "cell_type": "code",
   "execution_count": 138,
   "id": "56c5828e-d6af-4c17-a42f-f271e165d488",
   "metadata": {},
   "outputs": [],
   "source": [
    "decoded = tf.keras.backend.ctc_decode(yhat, input_length=[75], greedy=True)[0][0].numpy()"
   ]
  },
  {
   "cell_type": "code",
   "execution_count": 139,
   "id": "36d77e93-17ee-4109-a9ea-f23f16df5dc1",
   "metadata": {},
   "outputs": [
    {
     "name": "stdout",
     "output_type": "stream",
     "text": [
      "~~~~~~~~~~~~~~~~~~~~~~~~~~~~~~~~~~~~~~~~~~~~~~~~~~~~~~~~~~~~~~~~~~~~~~~~~~~~~~~~~~~~~~~~~~~~~~~~~~~~ PREDICTIONS\n"
     ]
    },
    {
     "data": {
      "text/plain": [
       "[<tf.Tensor: shape=(), dtype=string, numpy=b'bin red at s nine again'>]"
      ]
     },
     "execution_count": 139,
     "metadata": {},
     "output_type": "execute_result"
    }
   ],
   "source": [
    "print('~'*100, 'PREDICTIONS')\n",
    "[tf.strings.reduce_join([num_to_char(word) for word in sentence]) for sentence in decoded]"
   ]
  },
  {
   "cell_type": "code",
   "execution_count": null,
   "id": "9566d227-0793-4823-87fd-c39a8b0b712f",
   "metadata": {},
   "outputs": [],
   "source": []
  }
 ],
 "metadata": {
  "kernelspec": {
   "display_name": "Python 3 (ipykernel)",
   "language": "python",
   "name": "python3"
  },
  "language_info": {
   "codemirror_mode": {
    "name": "ipython",
    "version": 3
   },
   "file_extension": ".py",
   "mimetype": "text/x-python",
   "name": "python",
   "nbconvert_exporter": "python",
   "pygments_lexer": "ipython3",
   "version": "3.11.7"
  }
 },
 "nbformat": 4,
 "nbformat_minor": 5
}
